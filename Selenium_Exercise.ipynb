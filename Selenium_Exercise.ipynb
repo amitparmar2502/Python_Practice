{
 "cells": [
  {
   "cell_type": "code",
   "execution_count": 6,
   "id": "a74dfe9b",
   "metadata": {},
   "outputs": [],
   "source": [
    "from selenium import webdriver\n"
   ]
  },
  {
   "cell_type": "code",
   "execution_count": 7,
   "id": "853f63d3",
   "metadata": {},
   "outputs": [],
   "source": [
    "import selenium"
   ]
  },
  {
   "cell_type": "code",
   "execution_count": 16,
   "id": "593522bb",
   "metadata": {},
   "outputs": [],
   "source": [
    "from selenium.webdriver.common.by import By"
   ]
  },
  {
   "cell_type": "code",
   "execution_count": 20,
   "id": "ff5891c1",
   "metadata": {},
   "outputs": [
    {
     "name": "stdout",
     "output_type": "stream",
     "text": [
      "<selenium.webdriver.remote.webelement.WebElement (session=\"79f00f7e69c801e8aba5caf11a211a7a\", element=\"5ee09a02-6804-4f43-a933-7cddc93787c6\")>\n",
      "Show Message\n",
      "I am Amit Parmar\n"
     ]
    }
   ],
   "source": [
    "chrome_browser = webdriver.Chrome('chromedriver')\n",
    "chrome_browser.maximize_window()\n",
    "chrome_browser.get('https://demo.seleniumeasy.com/basic-first-form-demo.html')\n",
    "#print('Selenium Easy Demo' in chrome_browser.title)\n",
    "show_message_button = chrome_browser.find_element(By.CLASS_NAME,\"btn-default\")\n",
    "print(show_message_button)\n",
    "print(show_message_button.get_attribute('innerHTML'))\n",
    "assert 'Show Message' in chrome_browser.page_source\n",
    "user_message = chrome_browser.find_element(By.ID,\"user-message\")\n",
    "user_message.clear()\n",
    "user_message.send_keys(\"I am Amit Parmar\")\n",
    "show_message_button.click()\n",
    "output_message = chrome_browser.find_element(By.ID,\"display\")\n",
    "print(output_message.get_attribute('innerHTML'))"
   ]
  },
  {
   "cell_type": "code",
   "execution_count": 10,
   "id": "66e9d623",
   "metadata": {},
   "outputs": [],
   "source": [
    "chrome_browser.maximize_window()"
   ]
  },
  {
   "cell_type": "code",
   "execution_count": null,
   "id": "2808907b",
   "metadata": {},
   "outputs": [],
   "source": [
    "button_text = chrome_browser.find_element_by_class_name(\"btn btn-default\")"
   ]
  }
 ],
 "metadata": {
  "kernelspec": {
   "display_name": "Python 3 (ipykernel)",
   "language": "python",
   "name": "python3"
  },
  "language_info": {
   "codemirror_mode": {
    "name": "ipython",
    "version": 3
   },
   "file_extension": ".py",
   "mimetype": "text/x-python",
   "name": "python",
   "nbconvert_exporter": "python",
   "pygments_lexer": "ipython3",
   "version": "3.10.1"
  }
 },
 "nbformat": 4,
 "nbformat_minor": 5
}
